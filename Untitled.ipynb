{
 "cells": [
  {
   "cell_type": "code",
   "execution_count": 1,
   "id": "fa86d010",
   "metadata": {},
   "outputs": [],
   "source": [
    "import pandas as pd\n",
    "from matplotlib import pyplot as plt\n",
    "import pickle"
   ]
  },
  {
   "cell_type": "code",
   "execution_count": 2,
   "id": "8559d9a3",
   "metadata": {},
   "outputs": [
    {
     "name": "stdout",
     "output_type": "stream",
     "text": [
      "Requirement already satisfied: neuralprophet in /Users/sirajussalekin/opt/anaconda3/lib/python3.9/site-packages (0.3.2)\n",
      "Requirement already satisfied: tqdm>=4.50.2 in /Users/sirajussalekin/opt/anaconda3/lib/python3.9/site-packages (from neuralprophet) (4.64.0)\n",
      "Requirement already satisfied: torch-lr-finder>=0.2.1 in /Users/sirajussalekin/opt/anaconda3/lib/python3.9/site-packages (from neuralprophet) (0.2.1)\n",
      "Requirement already satisfied: torch>=1.4.0 in /Users/sirajussalekin/opt/anaconda3/lib/python3.9/site-packages (from neuralprophet) (1.12.1)\n",
      "Requirement already satisfied: convertdate>=2.1.2 in /Users/sirajussalekin/opt/anaconda3/lib/python3.9/site-packages (from neuralprophet) (2.4.0)\n",
      "Requirement already satisfied: dataclasses>=0.6 in /Users/sirajussalekin/opt/anaconda3/lib/python3.9/site-packages (from neuralprophet) (0.6)\n",
      "Requirement already satisfied: pandas>=1.0.4 in /Users/sirajussalekin/opt/anaconda3/lib/python3.9/site-packages (from neuralprophet) (1.4.2)\n",
      "Requirement already satisfied: matplotlib>=2.0.0 in /Users/sirajussalekin/opt/anaconda3/lib/python3.9/site-packages (from neuralprophet) (3.5.1)\n",
      "Requirement already satisfied: LunarCalendar>=0.0.9 in /Users/sirajussalekin/opt/anaconda3/lib/python3.9/site-packages (from neuralprophet) (0.0.9)\n",
      "Requirement already satisfied: holidays>=0.11.3.1 in /Users/sirajussalekin/opt/anaconda3/lib/python3.9/site-packages (from neuralprophet) (0.15)\n",
      "Requirement already satisfied: numpy>=1.15.4 in /Users/sirajussalekin/opt/anaconda3/lib/python3.9/site-packages (from neuralprophet) (1.21.5)\n",
      "Requirement already satisfied: ipywidgets>=7.5.1 in /Users/sirajussalekin/opt/anaconda3/lib/python3.9/site-packages (from neuralprophet) (7.6.5)\n",
      "Requirement already satisfied: python-dateutil>=2.8.0 in /Users/sirajussalekin/opt/anaconda3/lib/python3.9/site-packages (from neuralprophet) (2.8.2)\n",
      "Requirement already satisfied: pymeeus<=1,>=0.3.13 in /Users/sirajussalekin/opt/anaconda3/lib/python3.9/site-packages (from convertdate>=2.1.2->neuralprophet) (0.5.11)\n",
      "Requirement already satisfied: hijri-converter in /Users/sirajussalekin/opt/anaconda3/lib/python3.9/site-packages (from holidays>=0.11.3.1->neuralprophet) (2.2.4)\n",
      "Requirement already satisfied: korean-lunar-calendar in /Users/sirajussalekin/opt/anaconda3/lib/python3.9/site-packages (from holidays>=0.11.3.1->neuralprophet) (0.2.1)\n",
      "Requirement already satisfied: widgetsnbextension~=3.5.0 in /Users/sirajussalekin/opt/anaconda3/lib/python3.9/site-packages (from ipywidgets>=7.5.1->neuralprophet) (3.5.2)\n",
      "Requirement already satisfied: ipython>=4.0.0 in /Users/sirajussalekin/opt/anaconda3/lib/python3.9/site-packages (from ipywidgets>=7.5.1->neuralprophet) (8.2.0)\n",
      "Requirement already satisfied: traitlets>=4.3.1 in /Users/sirajussalekin/opt/anaconda3/lib/python3.9/site-packages (from ipywidgets>=7.5.1->neuralprophet) (5.1.1)\n",
      "Requirement already satisfied: ipython-genutils~=0.2.0 in /Users/sirajussalekin/opt/anaconda3/lib/python3.9/site-packages (from ipywidgets>=7.5.1->neuralprophet) (0.2.0)\n",
      "Requirement already satisfied: nbformat>=4.2.0 in /Users/sirajussalekin/opt/anaconda3/lib/python3.9/site-packages (from ipywidgets>=7.5.1->neuralprophet) (5.3.0)\n",
      "Requirement already satisfied: jupyterlab-widgets>=1.0.0 in /Users/sirajussalekin/opt/anaconda3/lib/python3.9/site-packages (from ipywidgets>=7.5.1->neuralprophet) (1.0.0)\n",
      "Requirement already satisfied: ipykernel>=4.5.1 in /Users/sirajussalekin/opt/anaconda3/lib/python3.9/site-packages (from ipywidgets>=7.5.1->neuralprophet) (6.9.1)\n",
      "Requirement already satisfied: tornado<7.0,>=4.2 in /Users/sirajussalekin/opt/anaconda3/lib/python3.9/site-packages (from ipykernel>=4.5.1->ipywidgets>=7.5.1->neuralprophet) (6.1)\n",
      "Requirement already satisfied: nest-asyncio in /Users/sirajussalekin/opt/anaconda3/lib/python3.9/site-packages (from ipykernel>=4.5.1->ipywidgets>=7.5.1->neuralprophet) (1.5.5)\n",
      "Requirement already satisfied: appnope in /Users/sirajussalekin/opt/anaconda3/lib/python3.9/site-packages (from ipykernel>=4.5.1->ipywidgets>=7.5.1->neuralprophet) (0.1.2)\n",
      "Requirement already satisfied: debugpy<2.0,>=1.0.0 in /Users/sirajussalekin/opt/anaconda3/lib/python3.9/site-packages (from ipykernel>=4.5.1->ipywidgets>=7.5.1->neuralprophet) (1.5.1)\n",
      "Requirement already satisfied: jupyter-client<8.0 in /Users/sirajussalekin/opt/anaconda3/lib/python3.9/site-packages (from ipykernel>=4.5.1->ipywidgets>=7.5.1->neuralprophet) (6.1.12)\n",
      "Requirement already satisfied: matplotlib-inline<0.2.0,>=0.1.0 in /Users/sirajussalekin/opt/anaconda3/lib/python3.9/site-packages (from ipykernel>=4.5.1->ipywidgets>=7.5.1->neuralprophet) (0.1.2)\n",
      "Requirement already satisfied: backcall in /Users/sirajussalekin/opt/anaconda3/lib/python3.9/site-packages (from ipython>=4.0.0->ipywidgets>=7.5.1->neuralprophet) (0.2.0)\n",
      "Requirement already satisfied: jedi>=0.16 in /Users/sirajussalekin/opt/anaconda3/lib/python3.9/site-packages (from ipython>=4.0.0->ipywidgets>=7.5.1->neuralprophet) (0.18.1)\n",
      "Requirement already satisfied: decorator in /Users/sirajussalekin/opt/anaconda3/lib/python3.9/site-packages (from ipython>=4.0.0->ipywidgets>=7.5.1->neuralprophet) (5.1.1)\n",
      "Requirement already satisfied: prompt-toolkit!=3.0.0,!=3.0.1,<3.1.0,>=2.0.0 in /Users/sirajussalekin/opt/anaconda3/lib/python3.9/site-packages (from ipython>=4.0.0->ipywidgets>=7.5.1->neuralprophet) (3.0.20)\n",
      "Requirement already satisfied: pexpect>4.3 in /Users/sirajussalekin/opt/anaconda3/lib/python3.9/site-packages (from ipython>=4.0.0->ipywidgets>=7.5.1->neuralprophet) (4.8.0)\n",
      "Requirement already satisfied: setuptools>=18.5 in /Users/sirajussalekin/opt/anaconda3/lib/python3.9/site-packages (from ipython>=4.0.0->ipywidgets>=7.5.1->neuralprophet) (61.2.0)\n",
      "Requirement already satisfied: stack-data in /Users/sirajussalekin/opt/anaconda3/lib/python3.9/site-packages (from ipython>=4.0.0->ipywidgets>=7.5.1->neuralprophet) (0.2.0)\n",
      "Requirement already satisfied: pygments>=2.4.0 in /Users/sirajussalekin/opt/anaconda3/lib/python3.9/site-packages (from ipython>=4.0.0->ipywidgets>=7.5.1->neuralprophet) (2.11.2)\n",
      "Requirement already satisfied: pickleshare in /Users/sirajussalekin/opt/anaconda3/lib/python3.9/site-packages (from ipython>=4.0.0->ipywidgets>=7.5.1->neuralprophet) (0.7.5)\n",
      "Requirement already satisfied: parso<0.9.0,>=0.8.0 in /Users/sirajussalekin/opt/anaconda3/lib/python3.9/site-packages (from jedi>=0.16->ipython>=4.0.0->ipywidgets>=7.5.1->neuralprophet) (0.8.3)\n",
      "Requirement already satisfied: pyzmq>=13 in /Users/sirajussalekin/opt/anaconda3/lib/python3.9/site-packages (from jupyter-client<8.0->ipykernel>=4.5.1->ipywidgets>=7.5.1->neuralprophet) (22.3.0)\n",
      "Requirement already satisfied: jupyter-core>=4.6.0 in /Users/sirajussalekin/opt/anaconda3/lib/python3.9/site-packages (from jupyter-client<8.0->ipykernel>=4.5.1->ipywidgets>=7.5.1->neuralprophet) (4.9.2)\n",
      "Requirement already satisfied: pytz in /Users/sirajussalekin/opt/anaconda3/lib/python3.9/site-packages (from LunarCalendar>=0.0.9->neuralprophet) (2021.3)\n",
      "Requirement already satisfied: ephem>=3.7.5.3 in /Users/sirajussalekin/opt/anaconda3/lib/python3.9/site-packages (from LunarCalendar>=0.0.9->neuralprophet) (4.1.3)\n",
      "Requirement already satisfied: pillow>=6.2.0 in /Users/sirajussalekin/opt/anaconda3/lib/python3.9/site-packages (from matplotlib>=2.0.0->neuralprophet) (9.0.1)\n",
      "Requirement already satisfied: packaging>=20.0 in /Users/sirajussalekin/opt/anaconda3/lib/python3.9/site-packages (from matplotlib>=2.0.0->neuralprophet) (21.3)\n",
      "Requirement already satisfied: fonttools>=4.22.0 in /Users/sirajussalekin/opt/anaconda3/lib/python3.9/site-packages (from matplotlib>=2.0.0->neuralprophet) (4.25.0)\n",
      "Requirement already satisfied: cycler>=0.10 in /Users/sirajussalekin/opt/anaconda3/lib/python3.9/site-packages (from matplotlib>=2.0.0->neuralprophet) (0.11.0)\n",
      "Requirement already satisfied: pyparsing>=2.2.1 in /Users/sirajussalekin/opt/anaconda3/lib/python3.9/site-packages (from matplotlib>=2.0.0->neuralprophet) (3.0.4)\n",
      "Requirement already satisfied: kiwisolver>=1.0.1 in /Users/sirajussalekin/opt/anaconda3/lib/python3.9/site-packages (from matplotlib>=2.0.0->neuralprophet) (1.3.2)\n",
      "Requirement already satisfied: fastjsonschema in /Users/sirajussalekin/opt/anaconda3/lib/python3.9/site-packages (from nbformat>=4.2.0->ipywidgets>=7.5.1->neuralprophet) (2.15.1)\n"
     ]
    },
    {
     "name": "stdout",
     "output_type": "stream",
     "text": [
      "Requirement already satisfied: jsonschema>=2.6 in /Users/sirajussalekin/opt/anaconda3/lib/python3.9/site-packages (from nbformat>=4.2.0->ipywidgets>=7.5.1->neuralprophet) (4.4.0)\n",
      "Requirement already satisfied: attrs>=17.4.0 in /Users/sirajussalekin/opt/anaconda3/lib/python3.9/site-packages (from jsonschema>=2.6->nbformat>=4.2.0->ipywidgets>=7.5.1->neuralprophet) (21.4.0)\n",
      "Requirement already satisfied: pyrsistent!=0.17.0,!=0.17.1,!=0.17.2,>=0.14.0 in /Users/sirajussalekin/opt/anaconda3/lib/python3.9/site-packages (from jsonschema>=2.6->nbformat>=4.2.0->ipywidgets>=7.5.1->neuralprophet) (0.18.0)\n",
      "Requirement already satisfied: ptyprocess>=0.5 in /Users/sirajussalekin/opt/anaconda3/lib/python3.9/site-packages (from pexpect>4.3->ipython>=4.0.0->ipywidgets>=7.5.1->neuralprophet) (0.7.0)\n",
      "Requirement already satisfied: wcwidth in /Users/sirajussalekin/opt/anaconda3/lib/python3.9/site-packages (from prompt-toolkit!=3.0.0,!=3.0.1,<3.1.0,>=2.0.0->ipython>=4.0.0->ipywidgets>=7.5.1->neuralprophet) (0.2.5)\n",
      "Requirement already satisfied: six>=1.5 in /Users/sirajussalekin/opt/anaconda3/lib/python3.9/site-packages (from python-dateutil>=2.8.0->neuralprophet) (1.16.0)\n",
      "Requirement already satisfied: typing-extensions in /Users/sirajussalekin/opt/anaconda3/lib/python3.9/site-packages (from torch>=1.4.0->neuralprophet) (4.1.1)\n",
      "Requirement already satisfied: notebook>=4.4.1 in /Users/sirajussalekin/opt/anaconda3/lib/python3.9/site-packages (from widgetsnbextension~=3.5.0->ipywidgets>=7.5.1->neuralprophet) (6.4.8)\n",
      "Requirement already satisfied: prometheus-client in /Users/sirajussalekin/opt/anaconda3/lib/python3.9/site-packages (from notebook>=4.4.1->widgetsnbextension~=3.5.0->ipywidgets>=7.5.1->neuralprophet) (0.13.1)\n",
      "Requirement already satisfied: nbconvert in /Users/sirajussalekin/opt/anaconda3/lib/python3.9/site-packages (from notebook>=4.4.1->widgetsnbextension~=3.5.0->ipywidgets>=7.5.1->neuralprophet) (6.4.4)\n",
      "Requirement already satisfied: Send2Trash>=1.8.0 in /Users/sirajussalekin/opt/anaconda3/lib/python3.9/site-packages (from notebook>=4.4.1->widgetsnbextension~=3.5.0->ipywidgets>=7.5.1->neuralprophet) (1.8.0)\n",
      "Requirement already satisfied: jinja2 in /Users/sirajussalekin/opt/anaconda3/lib/python3.9/site-packages (from notebook>=4.4.1->widgetsnbextension~=3.5.0->ipywidgets>=7.5.1->neuralprophet) (2.11.3)\n",
      "Requirement already satisfied: argon2-cffi in /Users/sirajussalekin/opt/anaconda3/lib/python3.9/site-packages (from notebook>=4.4.1->widgetsnbextension~=3.5.0->ipywidgets>=7.5.1->neuralprophet) (21.3.0)\n",
      "Requirement already satisfied: terminado>=0.8.3 in /Users/sirajussalekin/opt/anaconda3/lib/python3.9/site-packages (from notebook>=4.4.1->widgetsnbextension~=3.5.0->ipywidgets>=7.5.1->neuralprophet) (0.13.1)\n",
      "Requirement already satisfied: argon2-cffi-bindings in /Users/sirajussalekin/opt/anaconda3/lib/python3.9/site-packages (from argon2-cffi->notebook>=4.4.1->widgetsnbextension~=3.5.0->ipywidgets>=7.5.1->neuralprophet) (21.2.0)\n",
      "Requirement already satisfied: cffi>=1.0.1 in /Users/sirajussalekin/opt/anaconda3/lib/python3.9/site-packages (from argon2-cffi-bindings->argon2-cffi->notebook>=4.4.1->widgetsnbextension~=3.5.0->ipywidgets>=7.5.1->neuralprophet) (1.15.0)\n",
      "Requirement already satisfied: pycparser in /Users/sirajussalekin/opt/anaconda3/lib/python3.9/site-packages (from cffi>=1.0.1->argon2-cffi-bindings->argon2-cffi->notebook>=4.4.1->widgetsnbextension~=3.5.0->ipywidgets>=7.5.1->neuralprophet) (2.21)\n",
      "Requirement already satisfied: MarkupSafe>=0.23 in /Users/sirajussalekin/opt/anaconda3/lib/python3.9/site-packages (from jinja2->notebook>=4.4.1->widgetsnbextension~=3.5.0->ipywidgets>=7.5.1->neuralprophet) (2.0.1)\n",
      "Requirement already satisfied: entrypoints>=0.2.2 in /Users/sirajussalekin/opt/anaconda3/lib/python3.9/site-packages (from nbconvert->notebook>=4.4.1->widgetsnbextension~=3.5.0->ipywidgets>=7.5.1->neuralprophet) (0.4)\n",
      "Requirement already satisfied: nbclient<0.6.0,>=0.5.0 in /Users/sirajussalekin/opt/anaconda3/lib/python3.9/site-packages (from nbconvert->notebook>=4.4.1->widgetsnbextension~=3.5.0->ipywidgets>=7.5.1->neuralprophet) (0.5.13)\n",
      "Requirement already satisfied: testpath in /Users/sirajussalekin/opt/anaconda3/lib/python3.9/site-packages (from nbconvert->notebook>=4.4.1->widgetsnbextension~=3.5.0->ipywidgets>=7.5.1->neuralprophet) (0.5.0)\n",
      "Requirement already satisfied: mistune<2,>=0.8.1 in /Users/sirajussalekin/opt/anaconda3/lib/python3.9/site-packages (from nbconvert->notebook>=4.4.1->widgetsnbextension~=3.5.0->ipywidgets>=7.5.1->neuralprophet) (0.8.4)\n",
      "Requirement already satisfied: jupyterlab-pygments in /Users/sirajussalekin/opt/anaconda3/lib/python3.9/site-packages (from nbconvert->notebook>=4.4.1->widgetsnbextension~=3.5.0->ipywidgets>=7.5.1->neuralprophet) (0.1.2)\n",
      "Requirement already satisfied: pandocfilters>=1.4.1 in /Users/sirajussalekin/opt/anaconda3/lib/python3.9/site-packages (from nbconvert->notebook>=4.4.1->widgetsnbextension~=3.5.0->ipywidgets>=7.5.1->neuralprophet) (1.5.0)\n",
      "Requirement already satisfied: defusedxml in /Users/sirajussalekin/opt/anaconda3/lib/python3.9/site-packages (from nbconvert->notebook>=4.4.1->widgetsnbextension~=3.5.0->ipywidgets>=7.5.1->neuralprophet) (0.7.1)\n",
      "Requirement already satisfied: beautifulsoup4 in /Users/sirajussalekin/opt/anaconda3/lib/python3.9/site-packages (from nbconvert->notebook>=4.4.1->widgetsnbextension~=3.5.0->ipywidgets>=7.5.1->neuralprophet) (4.11.1)\n",
      "Requirement already satisfied: bleach in /Users/sirajussalekin/opt/anaconda3/lib/python3.9/site-packages (from nbconvert->notebook>=4.4.1->widgetsnbextension~=3.5.0->ipywidgets>=7.5.1->neuralprophet) (4.1.0)\n",
      "Requirement already satisfied: soupsieve>1.2 in /Users/sirajussalekin/opt/anaconda3/lib/python3.9/site-packages (from beautifulsoup4->nbconvert->notebook>=4.4.1->widgetsnbextension~=3.5.0->ipywidgets>=7.5.1->neuralprophet) (2.3.1)\n",
      "Requirement already satisfied: webencodings in /Users/sirajussalekin/opt/anaconda3/lib/python3.9/site-packages (from bleach->nbconvert->notebook>=4.4.1->widgetsnbextension~=3.5.0->ipywidgets>=7.5.1->neuralprophet) (0.5.1)\n",
      "Requirement already satisfied: pure-eval in /Users/sirajussalekin/opt/anaconda3/lib/python3.9/site-packages (from stack-data->ipython>=4.0.0->ipywidgets>=7.5.1->neuralprophet) (0.2.2)\n",
      "Requirement already satisfied: asttokens in /Users/sirajussalekin/opt/anaconda3/lib/python3.9/site-packages (from stack-data->ipython>=4.0.0->ipywidgets>=7.5.1->neuralprophet) (2.0.5)\n",
      "Requirement already satisfied: executing in /Users/sirajussalekin/opt/anaconda3/lib/python3.9/site-packages (from stack-data->ipython>=4.0.0->ipywidgets>=7.5.1->neuralprophet) (0.8.3)\n"
     ]
    }
   ],
   "source": [
    "!pip install neuralprophet"
   ]
  },
  {
   "cell_type": "code",
   "execution_count": null,
   "id": "9dc429d9",
   "metadata": {},
   "outputs": [],
   "source": [
    "from neuralprophet import NeuralProphet"
   ]
  },
  {
   "cell_type": "code",
   "execution_count": null,
   "id": "05bc1815",
   "metadata": {},
   "outputs": [],
   "source": []
  }
 ],
 "metadata": {
  "kernelspec": {
   "display_name": "Python 3 (ipykernel)",
   "language": "python",
   "name": "python3"
  },
  "language_info": {
   "codemirror_mode": {
    "name": "ipython",
    "version": 3
   },
   "file_extension": ".py",
   "mimetype": "text/x-python",
   "name": "python",
   "nbconvert_exporter": "python",
   "pygments_lexer": "ipython3",
   "version": "3.9.12"
  }
 },
 "nbformat": 4,
 "nbformat_minor": 5
}
