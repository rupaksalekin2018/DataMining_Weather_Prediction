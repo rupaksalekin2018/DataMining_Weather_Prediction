{
 "cells": [
  {
   "cell_type": "code",
   "execution_count": null,
   "id": "c38bc8d9",
   "metadata": {},
   "outputs": [],
   "source": [
    "import pandas as pd\n",
    "import numpy as np\n",
    "import matplotlib.pyplot as plt\n",
    "import seaborn as sns"
   ]
  },
  {
   "cell_type": "code",
   "execution_count": null,
   "id": "48df74e8",
   "metadata": {},
   "outputs": [],
   "source": [
    "df = pd.read_csv('/Users/sirajussalekin/Downloads/weatherAUS.csv')\n",
    "df.head()"
   ]
  },
  {
   "cell_type": "code",
   "execution_count": null,
   "id": "0c930052",
   "metadata": {},
   "outputs": [],
   "source": [
    "df.describe()"
   ]
  },
  {
   "cell_type": "markdown",
   "id": "56c7c5ae",
   "metadata": {},
   "source": [
    "# Rows and columns number"
   ]
  },
  {
   "cell_type": "code",
   "execution_count": null,
   "id": "31f8e261",
   "metadata": {},
   "outputs": [],
   "source": [
    "df.shape"
   ]
  },
  {
   "cell_type": "markdown",
   "id": "2a475f41",
   "metadata": {},
   "source": [
    "# Null and Non-null values in the features"
   ]
  },
  {
   "cell_type": "code",
   "execution_count": null,
   "id": "1fc7503e",
   "metadata": {},
   "outputs": [],
   "source": [
    "df.info()"
   ]
  },
  {
   "cell_type": "markdown",
   "id": "90307c2e",
   "metadata": {},
   "source": [
    "# Dropping Columns With Highest Null Values And As It Is Not A Time Series Analysis, Dropping The Date Column "
   ]
  },
  {
   "cell_type": "code",
   "execution_count": null,
   "id": "88ae3e8b",
   "metadata": {},
   "outputs": [],
   "source": [
    "df = df.drop([\"Evaporation\",\"Sunshine\",\"Cloud9am\",\"Cloud3pm\",\"Location\", \"Date\"], axis =1)\n",
    "df.head()"
   ]
  },
  {
   "cell_type": "markdown",
   "id": "87956b6b",
   "metadata": {},
   "source": [
    "# Dropping all the Null Value of Rows"
   ]
  },
  {
   "cell_type": "code",
   "execution_count": null,
   "id": "a960006a",
   "metadata": {},
   "outputs": [],
   "source": [
    "df = df.dropna(axis = 0)\n",
    "df.shape"
   ]
  },
  {
   "cell_type": "code",
   "execution_count": null,
   "id": "b51d99b7",
   "metadata": {},
   "outputs": [],
   "source": [
    "df.columns"
   ]
  },
  {
   "cell_type": "markdown",
   "id": "774307f5",
   "metadata": {},
   "source": [
    "# Transforming the Categorical Columns Into Numerical Columns"
   ]
  },
  {
   "cell_type": "code",
   "execution_count": null,
   "id": "68c56f81",
   "metadata": {},
   "outputs": [],
   "source": [
    "from sklearn.preprocessing import LabelEncoder\n",
    "le = LabelEncoder()\n",
    "df['WindGustDir'] = le.fit_transform(df['WindGustDir'])\n",
    "df['WindDir9am'] = le.fit_transform(df['WindDir9am'])\n",
    "df['WindDir3pm'] = le.fit_transform(df['WindDir3pm'])\n",
    "df['RainToday'] = le.fit_transform(df['RainToday'])\n",
    "df['RainTomorrow'] = le.fit_transform(df['RainTomorrow'])"
   ]
  },
  {
   "cell_type": "markdown",
   "id": "64d5c2f7",
   "metadata": {},
   "source": [
    "# Separating Feature Columns And Class Column"
   ]
  },
  {
   "cell_type": "code",
   "execution_count": null,
   "id": "97ff5f2a",
   "metadata": {},
   "outputs": [],
   "source": [
    "x = df.drop(['RainTomorrow'], axis = 1)\n",
    "y = df['RainTomorrow']"
   ]
  },
  {
   "cell_type": "code",
   "execution_count": null,
   "id": "6189b40c",
   "metadata": {},
   "outputs": [],
   "source": [
    "x.head()"
   ]
  },
  {
   "cell_type": "markdown",
   "id": "04e6fc38",
   "metadata": {},
   "source": [
    "# The Rain is increasing with high temp"
   ]
  },
  {
   "cell_type": "code",
   "execution_count": null,
   "id": "b2fbc793",
   "metadata": {},
   "outputs": [],
   "source": [
    "plt.figure(figsize = (8,8))\n",
    "sns.scatterplot(x = 'MaxTemp', y = 'MinTemp', hue = 'RainTomorrow' , palette = 'inferno',data = df)"
   ]
  },
  {
   "cell_type": "markdown",
   "id": "45d271b5",
   "metadata": {},
   "source": [
    "# With High Humidity, Rain increases"
   ]
  },
  {
   "cell_type": "code",
   "execution_count": null,
   "id": "1728bc41",
   "metadata": {},
   "outputs": [],
   "source": [
    "plt.figure(figsize = (8,8))\n",
    "sns.scatterplot(x = 'Humidity9am', y = 'Temp9am', hue = 'RainTomorrow' , palette = 'inferno',data = df)"
   ]
  },
  {
   "cell_type": "markdown",
   "id": "fa56a4b6",
   "metadata": {},
   "source": [
    "# Correlation Heatmap"
   ]
  },
  {
   "cell_type": "code",
   "execution_count": null,
   "id": "be545e14",
   "metadata": {},
   "outputs": [],
   "source": [
    "plt.figure(figsize = (8,8))\n",
    "sns.heatmap(df.corr())"
   ]
  },
  {
   "cell_type": "markdown",
   "id": "f1f4499d",
   "metadata": {},
   "source": [
    "# Train and Test Data Split "
   ]
  },
  {
   "cell_type": "code",
   "execution_count": null,
   "id": "3b4d3499",
   "metadata": {},
   "outputs": [],
   "source": [
    "from sklearn.model_selection import train_test_split\n",
    "x_train, x_test, y_train, y_test = train_test_split(x,y, test_size = 0.2)"
   ]
  },
  {
   "cell_type": "code",
   "execution_count": null,
   "id": "3c55fb2f",
   "metadata": {},
   "outputs": [],
   "source": [
    "from sklearn.metrics import classification_report, confusion_matrix, accuracy_score"
   ]
  },
  {
   "cell_type": "markdown",
   "id": "50b01cce",
   "metadata": {},
   "source": [
    "# Logistic Regression"
   ]
  },
  {
   "cell_type": "code",
   "execution_count": 27,
   "id": "7027467f",
   "metadata": {},
   "outputs": [
    {
     "name": "stdout",
     "output_type": "stream",
     "text": [
      "[[16635   924]\n",
      " [ 2631  2395]]\n",
      "              precision    recall  f1-score   support\n",
      "\n",
      "           0       0.86      0.95      0.90     17559\n",
      "           1       0.72      0.48      0.57      5026\n",
      "\n",
      "    accuracy                           0.84     22585\n",
      "   macro avg       0.79      0.71      0.74     22585\n",
      "weighted avg       0.83      0.84      0.83     22585\n",
      "\n",
      "0.8425946424618109\n"
     ]
    },
    {
     "name": "stderr",
     "output_type": "stream",
     "text": [
      "/Users/sirajussalekin/opt/anaconda3/lib/python3.9/site-packages/sklearn/linear_model/_logistic.py:814: ConvergenceWarning: lbfgs failed to converge (status=1):\n",
      "STOP: TOTAL NO. of ITERATIONS REACHED LIMIT.\n",
      "\n",
      "Increase the number of iterations (max_iter) or scale the data as shown in:\n",
      "    https://scikit-learn.org/stable/modules/preprocessing.html\n",
      "Please also refer to the documentation for alternative solver options:\n",
      "    https://scikit-learn.org/stable/modules/linear_model.html#logistic-regression\n",
      "  n_iter_i = _check_optimize_result(\n"
     ]
    }
   ],
   "source": [
    "from sklearn.linear_model import LogisticRegression\n",
    "lr = LogisticRegression()\n",
    "lr.fit(x_train,y_train)\n",
    "predictions = lr.predict(x_test)\n",
    "print(confusion_matrix(y_test, predictions))\n",
    "print(classification_report(y_test, predictions))\n",
    "print(accuracy_score(y_test, predictions))"
   ]
  },
  {
   "cell_type": "markdown",
   "id": "da819034",
   "metadata": {},
   "source": [
    "# Decision Tree Classifier With Approximately 79% Accuracy"
   ]
  },
  {
   "cell_type": "code",
   "execution_count": null,
   "id": "46baa3d0",
   "metadata": {},
   "outputs": [],
   "source": [
    "from sklearn.tree import DecisionTreeClassifier\n",
    "dt = DecisionTreeClassifier()\n",
    "dt.fit(x_train,y_train)\n",
    "predictions = dt.predict(x_test)\n",
    "print(confusion_matrix(y_test, predictions))\n",
    "print(classification_report(y_test, predictions))\n",
    "print(accuracy_score(y_test, predictions))"
   ]
  },
  {
   "cell_type": "markdown",
   "id": "f2028512",
   "metadata": {},
   "source": [
    "# Random Forest Classifier With Approximately 85% Accuracy"
   ]
  },
  {
   "cell_type": "code",
   "execution_count": null,
   "id": "d3564f2a",
   "metadata": {},
   "outputs": [],
   "source": [
    "from sklearn.ensemble import RandomForestClassifier\n",
    "rf = RandomForestClassifier()\n",
    "rf.fit(x_train,y_train)\n",
    "predictions = rf.predict(x_test)\n",
    "print(confusion_matrix(y_test, predictions))\n",
    "print(classification_report(y_test, predictions))\n",
    "print(accuracy_score(y_test, predictions))"
   ]
  },
  {
   "cell_type": "markdown",
   "id": "3255a4ac",
   "metadata": {},
   "source": [
    "# Xgboost Classifier With 86% Accuracy"
   ]
  },
  {
   "cell_type": "code",
   "execution_count": null,
   "id": "3853ef93",
   "metadata": {},
   "outputs": [],
   "source": [
    "!pip install xgboost"
   ]
  },
  {
   "cell_type": "code",
   "execution_count": 26,
   "id": "dd929116",
   "metadata": {},
   "outputs": [
    {
     "name": "stdout",
     "output_type": "stream",
     "text": [
      "acc 0.8551693601948196\n",
      "f1               precision    recall  f1-score   support\n",
      "\n",
      "           0       0.88      0.95      0.91     17559\n",
      "           1       0.74      0.54      0.62      5026\n",
      "\n",
      "    accuracy                           0.86     22585\n",
      "   macro avg       0.81      0.74      0.77     22585\n",
      "weighted avg       0.85      0.86      0.85     22585\n",
      "\n",
      "matrix [[16596   963]\n",
      " [ 2308  2718]]\n"
     ]
    }
   ],
   "source": [
    "import xgboost as xgb\n",
    "xgb = xgb.XGBClassifier()\n",
    "xgb.fit(x_train, y_train)\n",
    "pred = xgb.predict(x_test)\n",
    "print('acc',accuracy_score(y_test,pred))\n",
    "print('f1',classification_report(y_test,pred))\n",
    "print('matrix',confusion_matrix(y_test,pred))"
   ]
  },
  {
   "cell_type": "markdown",
   "id": "869f5e71",
   "metadata": {},
   "source": [
    "# Adaboost Classifier With 84% Accuracy"
   ]
  },
  {
   "cell_type": "code",
   "execution_count": 36,
   "id": "08ad6388",
   "metadata": {},
   "outputs": [
    {
     "name": "stdout",
     "output_type": "stream",
     "text": [
      "acc 0.8435244631392517\n",
      "f1               precision    recall  f1-score   support\n",
      "\n",
      "           0       0.87      0.95      0.90     17559\n",
      "           1       0.72      0.49      0.58      5026\n",
      "\n",
      "    accuracy                           0.84     22585\n",
      "   macro avg       0.79      0.72      0.74     22585\n",
      "weighted avg       0.83      0.84      0.83     22585\n",
      "\n",
      "matrix [[16607   952]\n",
      " [ 2582  2444]]\n"
     ]
    }
   ],
   "source": [
    "from sklearn.ensemble import AdaBoostClassifier\n",
    "abc = AdaBoostClassifier(n_estimators=50,learning_rate=1).fit(x_train,y_train)\n",
    "y_abc_predict = abc.predict(x_test)\n",
    "print('acc',accuracy_score(y_test,y_abc_predict))\n",
    "print('f1',classification_report(y_test,y_abc_predict))\n",
    "print('matrix',confusion_matrix(y_test,y_abc_predict))"
   ]
  },
  {
   "cell_type": "code",
   "execution_count": null,
   "id": "2b8f6c62",
   "metadata": {},
   "outputs": [],
   "source": []
  }
 ],
 "metadata": {
  "kernelspec": {
   "display_name": "Python 3 (ipykernel)",
   "language": "python",
   "name": "python3"
  },
  "language_info": {
   "codemirror_mode": {
    "name": "ipython",
    "version": 3
   },
   "file_extension": ".py",
   "mimetype": "text/x-python",
   "name": "python",
   "nbconvert_exporter": "python",
   "pygments_lexer": "ipython3",
   "version": "3.9.12"
  }
 },
 "nbformat": 4,
 "nbformat_minor": 5
}
